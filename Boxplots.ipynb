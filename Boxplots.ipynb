{
 "cells": [
  {
   "cell_type": "markdown",
   "metadata": {},
   "source": [
    "# Boxplot Analysis"
   ]
  },
  {
   "cell_type": "markdown",
   "metadata": {},
   "source": [
    "## Introduction \n",
    "The boxplot or box-whisper plot, as a form of statistical analysis was introduced in 1970 by the famous mathematician John Tukey (1). The boxplot is developed and harnessed in summary statistics to graphically describe groups of data into quartiles. According to Tukey the boxplot uses \"descriptive terminology and the barest of assumptions to achieve a desired result\" (1). Boxplot graphs are non parametric by design as they display the variation within the data but do not consider the underlying statistical distribution(2). Box plots can be drawn either horizontally or vertically and they received their name from the box in the middle. Box plots can contain lines both above and below the box called whiskers that indicate some variance outside of the quartile ranges. \n",
    "\n",
    "Box plots are used to show overall patterns within a data set. They provide a useful way to visualise the range and other characteristics of the data set. A box plot is used to show the distribution of quantitative data in a way that facilitates comparisons between variables. A box plot can be used when comparing the distributions of different sets of data and is a quick and easy graph to follow(4). A big advantage of using this type of graph is that it deals with large data sets very comfortably and displays the information in very easy to follow boxes. Another advantage of the boxplot is that it does not give exact figures rather gives an overall picture of the data, allowing the analyst to quickly scan over the data and run other more intrusive tests alongside the box plots (5). "
   ]
  },
  {
   "cell_type": "markdown",
   "metadata": {},
   "source": [
    "## Relevant Terms\n",
    "1. Quartiles: A boxplot splits the data set into quartiles. The body of the boxplot consists of a \"box\" which goes from the first quartile (Q1) to the third quartile (Q3) (7). The first quartile (Q1) is defined as the middle number between the smallest number and the median of the data set(1). Within the box, a vertical line is drawn at the Q2, the median of the data set. Inter-quartile range the middle “box” represents the middle 50% of scores for the group. The range of scores from lower to upper quartile is referred to as the inter-quartile range. The middle 50% of scores fall within the inter-quartile range. Upper quartile. Seventy-five percent of the scores fall below the upper quartile. \n",
    "\n",
    "\n",
    "2. Whiskers: The upper and lower whiskers represent scores outside the middle 50%. Whiskers often stretch over a wider range of scores than the middle quartile groups. The front whisker goes from Q1 to the smallest non-outlier in the data set, and the back whisker goes from Q3 to the largest non-outlier.\n",
    "\n",
    "\n",
    "3. Outlier: In more general usage, an outlier is an extreme value that differs greatly from other values in a set of values. As a \"rule of thumb\", an extreme value is considered to be an outlier if it is at least 1.5 interquartile ranges below the first quartile (Q1), or at least 1.5 interquartile ranges above the third quartile (Q3) (8). Boxplots deal with outliers through the use of the whiskers. If there are any other outliers in the data they are marked on the boxplot using a singular dot. \n",
    "\n",
    "\n",
    "4. Percentiles:a measure used in statistics indicating the value below which a given percentage of observations in a group of observations fall.The values that divide a rank-ordered set of elements into 100 equal parts are called percentiles (9).\n",
    "\n",
    "\n",
    "5. Median: The median (middle quartile) marks the mid-point of the data and is shown by the line that divides the box into two parts. Half the scores are greater than or equal to this value and half are less(6).\n"
   ]
  },
  {
   "cell_type": "markdown",
   "metadata": {},
   "source": [
    "![boxplots](img/boxplot.png)"
   ]
  },
  {
   "cell_type": "markdown",
   "metadata": {},
   "source": [
    "## Using Boxplots for Iris Data Set "
   ]
  },
  {
   "cell_type": "code",
   "execution_count": 3,
   "metadata": {},
   "outputs": [
    {
     "data": {
      "text/plain": [
       "<matplotlib.axes._subplots.AxesSubplot at 0x198ef07f860>"
      ]
     },
     "execution_count": 3,
     "metadata": {},
     "output_type": "execute_result"
    },
    {
     "data": {
      "image/png": "[encoded data removed]",
      "text/plain": [
       "<Figure size 432x288 with 1 Axes>"
      ]
     },
     "metadata": {},
     "output_type": "display_data"
    }
   ],
   "source": [
    "# https://python-graph-gallery.com/30-basic-boxplot-with-seaborn/\n",
    "# library & dataset\n",
    "import seaborn as sns\n",
    "df = sns.load_dataset('iris')\n",
    " \n",
    "# Make boxplot for one group only\n",
    "sns.boxplot( y=df[\"sepal_length\"] )\n",
    "#sns.plt.show()\n",
    "\n",
    "# https://python-graph-gallery.com/30-basic-boxplot-with-seaborn/ "
   ]
  },
  {
   "cell_type": "code",
   "execution_count": 4,
   "metadata": {},
   "outputs": [
    {
     "data": {
      "text/plain": [
       "<matplotlib.axes._subplots.AxesSubplot at 0x198f00c35c0>"
      ]
     },
     "execution_count": 4,
     "metadata": {},
     "output_type": "execute_result"
    },
    {
     "data": {
      "image/png": "[encoded data removed]",
      "text/plain": [
       "<Figure size 432x288 with 1 Axes>"
      ]
     },
     "metadata": {},
     "output_type": "display_data"
    }
   ],
   "source": [
    "sns.boxplot( x=df[\"species\"], y=df[\"sepal_length\"] )\n",
    "#sns.plt.show()"
   ]
  },
  {
   "cell_type": "markdown",
   "metadata": {},
   "source": [
    "## Using BoxPlots for random data"
   ]
  },
  {
   "cell_type": "code",
   "execution_count": 10,
   "metadata": {},
   "outputs": [
    {
     "data": {
      "image/png": "[encoded data removed]",
      "text/plain": [
       "<Figure size 648x432 with 1 Axes>"
      ]
     },
     "metadata": {},
     "output_type": "display_data"
    }
   ],
   "source": [
    "#http://blog.bharatbhole.com/creating-boxplots-with-matplotlib/\n",
    "import numpy as np \n",
    "import matplotlib as mpl \n",
    "\n",
    "\n",
    "import matplotlib.pyplot as plt \n",
    "\n",
    "## Create data\n",
    "np.random.seed(15)\n",
    "collectn_1 = np.random.normal(80, 10, 100)\n",
    "collectn_2 = np.random.normal(100, 30, 100)\n",
    "collectn_3 = np.random.normal(70, 20, 100)\n",
    "collectn_4 = np.random.normal(90, 25, 100)\n",
    "\n",
    "## combine these different collections into a list    \n",
    "data_to_plot = [collectn_1, collectn_2, collectn_3, collectn_4]\n",
    "\n",
    "# Create a figure instance\n",
    "fig = plt.figure(1, figsize=(9, 6))\n",
    "\n",
    "# Create an axes instance\n",
    "ax = fig.add_subplot(111)\n",
    "\n",
    "# Create the boxplot\n",
    "bp = ax.boxplot(data_to_plot)\n",
    "\n",
    "# Save the figure\n",
    "fig.savefig('fig1.png', bbox_inches='tight')"
   ]
  },
  {
   "cell_type": "markdown",
   "metadata": {},
   "source": [
    "## Boxplot Comparison\n",
    "A box plot,  is a chart that graphically represents the five most important descriptive values for a data set. These values include the minimum value, the first quartile, the median, the third quartile, and the maximum value. (11) Organizing data in a box plot by using five key concepts is an efficient way of dealing with large data too unmanageable for other graphs, such as line plots or stem and leaf plots(14).\n",
    "\n",
    "Although histograms and box plots are collectively part of the chart aid category, they do represent very different types of charts. Both charts effectively represent different data sets; however, in certain situations, one chart may be superior to the other in achieving the goal of identifying variances among data(11). When there is moderate variation among the observed frequencies, which causes the histogram to look ragged and non-symmetrical due to the way the data is grouped. This may lead one to assume the data is slightly skewed. However, when a box plot is used to graph the same data points, the chart indicates a perfect normal distribution (11).\n",
    "\n",
    "Box plots provide more of a summary of a distribution can also be seen as an advantage in certain cases. Sometimes when we're comparing distributions we don't care about overall shape, but rather where the distributions lie with regard to one another.Grouping the quartiles together allows us to assess the distribution. \n",
    "\n",
    "Box plots are used to show overall patterns of response for a group. They provide a useful way to visualise the range and other characteristics of responses for a large group. Boxplots are especially useful at dealing with big chunks of data and can allow us to see the data in a quick and easy plot. \n",
    "\n",
    "Another advantage that a boxplot has over the histogram is the ability to straight away find the median point in the data due to the line that disects the boxes (12). Boxplots also deal very well with outliers as we can view them through the whiskers or individually marked on the graph. \n",
    "\n",
    "A major disadvantage of The box plot is that it does not keep the exact values and details of the distribution results, which is an issue with handling such large amounts of data in this graph type. A box plot shows only a simple summary of the distribution of results, so that it you can quickly view it and compare it with other data. Use a box plot in combination with another statistical graph method, like a histogram, for a more thorough, more detailed analysis of the data(14)."
   ]
  },
  {
   "cell_type": "markdown",
   "metadata": {},
   "source": [
    "## References \n",
    "1. https://en.wikipedia.org/wiki/John_Tukey\n",
    "2. https://en.wikipedia.org/wiki/Box_plot \n",
    "3. https://physicstoday.scitation.org/doi/10.1063/1.1397408?journalCode=pto\n",
    "4. https://seaborn.pydata.org/generated/seaborn.boxplot.html \n",
    "5. https://sciencing.com/advantages-disadvantages-box-plot-12025269.html\n",
    "6. https://www.wellbeingatschool.org.nz/information-sheet/understanding-and-interpreting-box-plots\n",
    "7. https://stattrek.com/statistics/charts/boxplot.aspx\n",
    "8. https://stattrek.com/statistics/dictionary.aspx?definition=Outlier\n",
    "9. https://stattrek.com/statistics/dictionary.aspx?definition=Percentile\n",
    "10. https://en.wikipedia.org/wiki/Percentile \n",
    "11. https://www.brighthubpm.com/six-sigma/58254-box-plots-vs-histograms-in-project-management/\n",
    "12. https://stats.stackexchange.com/questions/202629/what-information-does-a-box-plot-provide-that-a-histogram-does-not/202663\n",
    "13. https://www.wellbeingatschool.org.nz/information-sheet/understanding-and-interpreting-box-plots\n",
    "14. https://sciencing.com/advantages-disadvantages-box-plot-12025269.html"
   ]
  },
  {
   "cell_type": "code",
   "execution_count": null,
   "metadata": {},
   "outputs": [],
   "source": []
  }
 ],
 "metadata": {
  "kernelspec": {
   "display_name": "Python 3",
   "language": "python",
   "name": "python3"
  },
  "language_info": {
   "codemirror_mode": {
    "name": "ipython",
    "version": 3
   },
   "file_extension": ".py",
   "mimetype": "text/x-python",
   "name": "python",
   "nbconvert_exporter": "python",
   "pygments_lexer": "ipython3",
   "version": "3.6.5"
  }
 },
 "nbformat": 4,
 "nbformat_minor": 2
}
