{
 "cells": [
  {
   "cell_type": "markdown",
   "metadata": {},
   "source": [
    "# Boxplot Analysis"
   ]
  },
  {
   "cell_type": "markdown",
   "metadata": {},
   "source": [
    "## Introduction \n",
    "The boxplot or box-whisper plot, as a form of statistical analysis was introduced in 1970 by the famous mathematician John Tukey (1). The boxplot is developed and harnessed in summary statistics to graphically describe groups of data into quartiles. According to Tukey the boxplot uses \"descriptive terminology and the barest of assumptions to achieve a desired result\" (1). Boxplot graphs are non parametric by design as they display the variation within the data but do not consider the underlying statistical distribution(2). Box plots can be drawn either horizontally or vertically and they received their name from the box in the middle. Box plots can contain lines both above and below the box called whiskers that indicate some variance outside of the quartile ranges. \n",
    "\n",
    "Box plots are used to show overall patterns within a data set. They provide a useful way to visualise the range and other characteristics of the data set. A box plot is used to show the distribution of quantitative data in a way that facilitates comparisons between variables. A box plot can be used when comparing the distributions of different sets of data and is a quick and easy graph to follow(4). A big advantage of using this type of graph is that it deals with large data sets very comfortably and displays the information in very easy to follow boxes. Another advantage of the boxplot is that it does not give exact figures rather gives an overall picture of the data, allowing the analyst to quickly scan over the data and run other more intrusive tests alongside the box plots (5). "
   ]
  },
  {
   "cell_type": "markdown",
   "metadata": {},
   "source": [
    "## Relevant Terms\n",
    "1. Quartiles: A boxplot splits the data set into quartiles. The body of the boxplot consists of a \"box\" which goes from the first quartile (Q1) to the third quartile (Q3) (7). The first quartile (Q1) is defined as the middle number between the smallest number and the median of the data set(1). Within the box, a vertical line is drawn at the Q2, the median of the data set. Inter-quartile range the middle “box” represents the middle 50% of scores for the group. The range of scores from lower to upper quartile is referred to as the inter-quartile range. The middle 50% of scores fall within the inter-quartile range. Upper quartile. Seventy-five percent of the scores fall below the upper quartile. \n",
    "\n",
    "\n",
    "2. Whiskers: The upper and lower whiskers represent scores outside the middle 50%. Whiskers often stretch over a wider range of scores than the middle quartile groups. The front whisker goes from Q1 to the smallest non-outlier in the data set, and the back whisker goes from Q3 to the largest non-outlier.\n",
    "\n",
    "\n",
    "3. Outlier: In more general usage, an outlier is an extreme value that differs greatly from other values in a set of values. As a \"rule of thumb\", an extreme value is considered to be an outlier if it is at least 1.5 interquartile ranges below the first quartile (Q1), or at least 1.5 interquartile ranges above the third quartile (Q3) (8). Boxplots deal with outliers through the use of the whiskers. \n",
    "\n",
    "\n",
    "4. Percentiles:a measure used in statistics indicating the value below which a given percentage of observations in a group of observations fall.The values that divide a rank-ordered set of elements into 100 equal parts are called percentiles (9).\n",
    "\n",
    "\n",
    "5. Median: The median (middle quartile) marks the mid-point of the data and is shown by the line that divides the box into two parts. Half the scores are greater than or equal to this value and half are less(6).\n"
   ]
  },
  {
   "cell_type": "code",
   "execution_count": null,
   "metadata": {},
   "outputs": [],
   "source": []
  },
  {
   "cell_type": "markdown",
   "metadata": {},
   "source": [
    "## References \n",
    "1. https://en.wikipedia.org/wiki/John_Tukey\n",
    "2. https://en.wikipedia.org/wiki/Box_plot \n",
    "3. https://physicstoday.scitation.org/doi/10.1063/1.1397408?journalCode=pto\n",
    "4. https://seaborn.pydata.org/generated/seaborn.boxplot.html \n",
    "5. https://sciencing.com/advantages-disadvantages-box-plot-12025269.html\n",
    "6. https://www.wellbeingatschool.org.nz/information-sheet/understanding-and-interpreting-box-plots\n",
    "7. https://stattrek.com/statistics/charts/boxplot.aspx\n",
    "8. https://stattrek.com/statistics/dictionary.aspx?definition=Outlier\n",
    "9. https://stattrek.com/statistics/dictionary.aspx?definition=Percentile\n",
    "10. https://en.wikipedia.org/wiki/Percentile \n"
   ]
  },
  {
   "cell_type": "code",
   "execution_count": null,
   "metadata": {},
   "outputs": [],
   "source": []
  }
 ],
 "metadata": {
  "kernelspec": {
   "display_name": "Python 3",
   "language": "python",
   "name": "python3"
  },
  "language_info": {
   "codemirror_mode": {
    "name": "ipython",
    "version": 3
   },
   "file_extension": ".py",
   "mimetype": "text/x-python",
   "name": "python",
   "nbconvert_exporter": "python",
   "pygments_lexer": "ipython3",
   "version": "3.6.5"
  }
 },
 "nbformat": 4,
 "nbformat_minor": 2
}
