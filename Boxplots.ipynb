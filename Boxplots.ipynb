{
 "cells": [
  {
   "cell_type": "markdown",
   "metadata": {},
   "source": [
    "# Boxplot Analysis"
   ]
  },
  {
   "cell_type": "markdown",
   "metadata": {},
   "source": [
    "## Introduction \n",
    "The boxplot or box-whisper plot, as a form of statistical analysis was introduced in 1970 by the famous mathematician John Tukey (1). The boxplot is developed and harnessed in summary statistics to graphically describe groups of data into quartiles. According to Tukey the boxplot uses \"descriptive terminology and the barest of assumptions to achieve a desired result\" (1). Boxplot graphs are non parametric by design as they display the variation within the data but do not consider the underlying statistical distribution(2). Box plots can be drawn either horizontally or vertically and they received their name from the box in the middle. Box plots can contain lines both above and below the box called whiskers that indicate some variance outside of the quartile ranges. \n",
    "\n",
    "Box plots are used to show overall patterns within a data set. They provide a useful way to visualise the range and other characteristics of the data set. A box plot is used to show the distribution of quantitative data in a way that facilitates comparisons between variables. A box plot can be used when comparing the distributions of different sets of data and is a quick and easy graph to follow(4). A big advantage of using this type of graph is that it deals with large data sets very comfortably and displays the information in very easy to follow boxes. Another advantage of the boxplot is that it does not give exact figures rather gives an overall picture of the data, allowing the analyst to quickly scan over the data and run other more intrusive tests alongside the box plots (5). "
   ]
  },
  {
   "attachments": {},
   "cell_type": "markdown",
   "metadata": {},
   "source": [
    "## Relevant Terms\n",
    "1. Quartiles: A boxplot splits the data set into quartiles. The body of the boxplot consists of a \"box\" which goes from the first quartile (Q1) to the third quartile (Q3) (7). The first quartile (Q1) is defined as the middle number between the smallest number and the median of the data set(1). Within the box, a vertical line is drawn at the Q2, the median of the data set. Inter-quartile range the middle “box” represents the middle 50% of scores for the group. The range of scores from lower to upper quartile is referred to as the inter-quartile range. The middle 50% of scores fall within the inter-quartile range. Upper quartile. Seventy-five percent of the scores fall below the upper quartile. \n",
    "\n"
   ]
  },
  {
   "cell_type": "code",
   "execution_count": null,
   "metadata": {},
   "outputs": [],
   "source": []
  },
  {
   "cell_type": "markdown",
   "metadata": {},
   "source": [
    "## References \n",
    "1. https://en.wikipedia.org/wiki/John_Tukey\n",
    "2. https://en.wikipedia.org/wiki/Box_plot \n",
    "3. https://physicstoday.scitation.org/doi/10.1063/1.1397408?journalCode=pto\n",
    "4. https://seaborn.pydata.org/generated/seaborn.boxplot.html \n",
    "5. https://sciencing.com/advantages-disadvantages-box-plot-12025269.html\n",
    "6. https://www.wellbeingatschool.org.nz/information-sheet/understanding-and-interpreting-box-plots\n",
    "7. https://stattrek.com/statistics/charts/boxplot.aspx"
   ]
  },
  {
   "cell_type": "code",
   "execution_count": null,
   "metadata": {},
   "outputs": [],
   "source": []
  }
 ],
 "metadata": {
  "kernelspec": {
   "display_name": "Python 3",
   "language": "python",
   "name": "python3"
  },
  "language_info": {
   "codemirror_mode": {
    "name": "ipython",
    "version": 3
   },
   "file_extension": ".py",
   "mimetype": "text/x-python",
   "name": "python",
   "nbconvert_exporter": "python",
   "pygments_lexer": "ipython3",
   "version": "3.6.5"
  }
 },
 "nbformat": 4,
 "nbformat_minor": 2
}
